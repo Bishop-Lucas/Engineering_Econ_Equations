{
 "cells": [
  {
   "cell_type": "code",
   "execution_count": 2,
   "metadata": {},
   "outputs": [],
   "source": [
    "import numpy\n",
    "import pandas\n",
    "import math\n"
   ]
  },
  {
   "cell_type": "code",
   "execution_count": 26,
   "metadata": {},
   "outputs": [
    {
     "name": "stdout",
     "output_type": "stream",
     "text": [
      "What is the rate of return: \n"
     ]
    },
    {
     "name": "stdin",
     "output_type": "stream",
     "text": [
      " .26\n"
     ]
    },
    {
     "name": "stdout",
     "output_type": "stream",
     "text": [
      "What is the total number of terms: \n"
     ]
    },
    {
     "name": "stdin",
     "output_type": "stream",
     "text": [
      " 12\n"
     ]
    },
    {
     "name": "stdout",
     "output_type": "stream",
     "text": [
      "What is the future sum of money: \n"
     ]
    },
    {
     "name": "stdin",
     "output_type": "stream",
     "text": [
      " 100000\n"
     ]
    },
    {
     "name": "stdout",
     "output_type": "stream",
     "text": [
      "1731.94\n"
     ]
    }
   ],
   "source": [
    "response = 'y'\n",
    "### Creating the functions for \n",
    "def get_interest():\n",
    "    # interest rate\n",
    "    print(\"What is the rate of return: \")\n",
    "    i = input()\n",
    "    return i\n",
    "def get_periods():\n",
    "    # number of periods\n",
    "    print(\"What is the total number of terms: \")\n",
    "    n = input()\n",
    "    return n\n",
    "def get_present():\n",
    "    # Present sum of money\n",
    "    print(\"What is the present sum of money: \")\n",
    "    p = input()\n",
    "    return p\n",
    "def get_future(): \n",
    "    # Future sum of money\n",
    "    print(\"What is the future sum of money: \")\n",
    "    f = input()\n",
    "    return f\n",
    "def get_add():\n",
    "    # money to be added per term\n",
    "    print(\"What is the sum of money you want to add per term: \")\n",
    "    a = input()\n",
    "    return a\n",
    "def compound_f():\n",
    "    i = float(get_interest())\n",
    "    n = int(get_periods())\n",
    "    p = int(get_present())\n",
    "    # The equation for compound interest\n",
    "    cf = p*((1+i)**n)\n",
    "    cfr = round(cf,2)\n",
    "    return cfr\n",
    "def compound_p():\n",
    "    i = float(get_interest())\n",
    "    n = int(get_periods())\n",
    "    f = int(get_future())\n",
    "    # The equation for determining the present value of compounded interest\n",
    "    cp = f*((1+i)**(-n))\n",
    "    cpr = round(cp,2)\n",
    "    return cpr\n",
    "def compound_s():\n",
    "    i = float(get_interest())\n",
    "    n = int(get_periods())\n",
    "    a = int(get_add())\n",
    "    # The equation for determing value with equal monthly payments\n",
    "    cs = a*((((1+i)**n)-1)/i)\n",
    "    csr = round(cs,2)\n",
    "    return csr\n",
    "def compound_sf():\n",
    "    i = float(get_interest())\n",
    "    n = int(get_periods())\n",
    "    f = int(get_future())\n",
    "    # The equation for determing value with equal monthly payments\n",
    "    csf = f*(i/(((1+i)**n)-1))\n",
    "    csfr = round(csf,2)\n",
    "    return csfr\n",
    "\n",
    "print(compound_sf())"
   ]
  },
  {
   "cell_type": "code",
   "execution_count": null,
   "metadata": {},
   "outputs": [],
   "source": []
  }
 ],
 "metadata": {
  "kernelspec": {
   "display_name": "Python 3.7.4 64-bit ('base': conda)",
   "language": "python",
   "name": "python37464bitbasecondab6bfb180d88c48e499d92309c86b800f"
  },
  "language_info": {
   "codemirror_mode": {
    "name": "ipython",
    "version": 3
   },
   "file_extension": ".py",
   "mimetype": "text/x-python",
   "name": "python",
   "nbconvert_exporter": "python",
   "pygments_lexer": "ipython3",
   "version": "3.7.4"
  }
 },
 "nbformat": 4,
 "nbformat_minor": 4
}
